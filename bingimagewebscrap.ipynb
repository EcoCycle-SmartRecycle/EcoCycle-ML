{
  "nbformat": 4,
  "nbformat_minor": 0,
  "metadata": {
    "colab": {
      "provenance": []
    },
    "kernelspec": {
      "name": "python3",
      "display_name": "Python 3"
    },
    "language_info": {
      "name": "python"
    }
  },
  "cells": [
    {
      "cell_type": "code",
      "execution_count": null,
      "metadata": {
        "id": "QFSZGIwqAdd8",
        "colab": {
          "base_uri": "https://localhost:8080/"
        },
        "outputId": "f6ea851b-3569-4a37-c140-eade2e6292d1"
      },
      "outputs": [
        {
          "output_type": "stream",
          "name": "stdout",
          "text": [
            "Collecting bing-image-downloader\n",
            "  Downloading bing_image_downloader-1.1.2-py3-none-any.whl (5.9 kB)\n",
            "Installing collected packages: bing-image-downloader\n",
            "Successfully installed bing-image-downloader-1.1.2\n"
          ]
        }
      ],
      "source": [
        "!pip install bing-image-downloader"
      ]
    },
    {
      "cell_type": "code",
      "source": [
        "from bing_image_downloader import downloader"
      ],
      "metadata": {
        "id": "OexP-CLZAkL7"
      },
      "execution_count": null,
      "outputs": []
    },
    {
      "cell_type": "code",
      "source": [
        "#ini ga usah di run kalau kamu sudah ngecreate foldernya secara manual\n",
        "from google.colab import drive\n",
        "drive.mount('/content/drive')"
      ],
      "metadata": {
        "id": "KpiOI4ppAwA2"
      },
      "execution_count": null,
      "outputs": []
    },
    {
      "cell_type": "code",
      "source": [
        "# ini directory tempat ngesave datanya. harus buat foldernya dulu secara manual\n",
        "dir = '/content/drive/MyDrive/Machine Learning'\n",
        "\n",
        "# image 1 dan 2 bisa di ubah sesuai dengan project scope kita mau ambil datasets apa\n",
        "image1 = 'steels rust image jpg'\n",
        "image2 = 'screws rust image jpg'"
      ],
      "metadata": {
        "id": "MqFXAhVPBLeG"
      },
      "execution_count": null,
      "outputs": []
    },
    {
      "cell_type": "markdown",
      "source": [
        "\n",
        "\n",
        "```\n",
        "downloader.download(<image ref>, limit = n, output_dir = <your save directory> , adult_filter_off = <boolean>)\n",
        "```\n",
        "\n"
      ],
      "metadata": {
        "id": "bLwA-xaOBYfe"
      }
    },
    {
      "cell_type": "code",
      "source": [
        "downloader.download(image1, limit = 125, output_dir= dir, adult_filter_off = False)"
      ],
      "metadata": {
        "id": "dQ0eImkdBN8M"
      },
      "execution_count": null,
      "outputs": []
    },
    {
      "cell_type": "code",
      "source": [
        "downloader.download(image2, limit = 125, output_dir= dir, adult_filter_off = False)"
      ],
      "metadata": {
        "id": "GlO6e30cBvHu"
      },
      "execution_count": null,
      "outputs": []
    }
  ]
}